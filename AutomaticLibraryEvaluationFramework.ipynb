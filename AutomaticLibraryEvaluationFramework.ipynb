{
 "cells": [
  {
   "cell_type": "markdown",
   "id": "87288e99-65ee-4d80-b029-7e90865b82ce",
   "metadata": {},
   "source": [
    "## Import Libraries"
   ]
  },
  {
   "cell_type": "code",
   "execution_count": 18,
   "id": "95fdc895-5ddb-40f3-b169-27f97c9fd1c8",
   "metadata": {},
   "outputs": [],
   "source": [
    "import os\n",
    "import numpy as np\n",
    "import pandas as pd\n",
    "import matplotlib.pyplot as plt\n",
    "import datetime"
   ]
  },
  {
   "cell_type": "markdown",
   "id": "6eb9bf76-fb9a-47bb-b967-648c9f520836",
   "metadata": {},
   "source": [
    "## Run Vivado"
   ]
  },
  {
   "cell_type": "code",
   "execution_count": 19,
   "id": "b5e1b92b-17db-48b3-a09d-4ebf7a4684eb",
   "metadata": {},
   "outputs": [
    {
     "data": {
      "text/plain": [
       "0"
      ]
     },
     "execution_count": 19,
     "metadata": {},
     "output_type": "execute_result"
    }
   ],
   "source": [
    "modules = os.listdir(\"Modules\")\n",
    "top_modules = [mod for mod in modules if mod[:3]=='top']\n",
    "top_modules\n",
    "os.system(\"vivado -mode batch -source Script/tcl_add.tcl\")"
   ]
  },
  {
   "cell_type": "code",
   "execution_count": 20,
   "id": "04d39ae5-3599-474f-94a6-888bfa8bc9c1",
   "metadata": {},
   "outputs": [],
   "source": [
    "os.mkdir('Impl')\n",
    "for filename in top_modules:\n",
    "    os.mkdir(\"Impl/\"+filename[:-2])\n",
    "    os.system(\"vivado -mode batch -source Script/tcl_run.tcl -tclargs {}\".format(filename))"
   ]
  },
  {
   "cell_type": "markdown",
   "id": "6acb4adc-d5e0-4259-8406-a2f34e822b31",
   "metadata": {},
   "source": [
    "## Analyse Metric"
   ]
  },
  {
   "cell_type": "code",
   "execution_count": 122,
   "id": "bc1f6eca-3721-48e2-82e6-57a14a3b00ea",
   "metadata": {},
   "outputs": [],
   "source": [
    "designs = os.listdir(\"Impl\")\n",
    "file = [\"power.txt\", \"timing.txt\",\"utilization.txt\"]\n",
    "col = [\"Signal Power(w)\",\"Logic Power(w)\",\"Static Power(w)\",\"Dynamic Power(w)\",\"Total Power(w)\",\"DataPath Delay(ns)\",\"F7_Muxes\",\"F8_Muxes\",\"LUT_as_Memory\",\"LUT_as_Logic\",\"Slice_LUTs\",\"LUT2\",\"LUT3\",\"LUT4\",\"LUT5\",\"LUT6\"]\n",
    "os.mkdir('Result')     "
   ]
  },
  {
   "cell_type": "code",
   "execution_count": 123,
   "id": "67c5c458-58f9-4d76-85ee-bd8495d43fe7",
   "metadata": {},
   "outputs": [],
   "source": [
    "sigPow = []\n",
    "logPow = []\n",
    "statPow = []\n",
    "dcPow = []\n",
    "totPow = []\n",
    "datPthDly = []\n",
    "F7Mux = []\n",
    "F8Mux = []\n",
    "LUTasMem = []\n",
    "LUTasLog = []\n",
    "sliceLUT = []\n",
    "LUT2 = []\n",
    "LUT3 = []\n",
    "LUT4 = []\n",
    "LUT5 = []\n",
    "LUT6 = []\n",
    "\n",
    "for des in designs:\n",
    "    for fl in file:\n",
    "        with open(\"Impl/{}/{}\".format(des,fl)) as f:\n",
    "            lines = f.read()\n",
    "            \n",
    "        sp = lines.split(\"\\n\")\n",
    "        \n",
    "        for l in sp:\n",
    "            if fl == \"power.txt\":\n",
    "                if \"Signals\" in l:\n",
    "                    sigP = float(l.split()[3])\n",
    "                    sigPow.append(sigP)\n",
    "                if \"Slice Logic\" in l:\n",
    "                    logP = float(l.split()[4])\n",
    "                    logPow.append(logP)\n",
    "                if \"Static Power\" in l:\n",
    "                    statP = float(l.split()[4])\n",
    "                    statPow.append(statP)\n",
    "                if \"Dynamic (W)\" in l:\n",
    "                    dcP = float(l.split()[4])\n",
    "                    dcPow.append(dcP)\n",
    "                if \"Total On-Chip Power (W)\" in l:\n",
    "                    totP = float(l.split()[6])\n",
    "                    totPow.append(totP)\n",
    "                    \n",
    "            if fl == \"timing.txt\":\n",
    "                if \"Data Path Delay\" in l:\n",
    "                    dPD = float(l.split()[3][:-2])\n",
    "                    datPthDly.append(dPD)\n",
    "            \n",
    "            if fl == \"utilization.txt\": \n",
    "                if \"F7 Muxes\" in l:\n",
    "                    valF7Mux = int(l.split()[4])\n",
    "                    F7Mux.append(valF7Mux)\n",
    "                if \"F8 Muxes\" in l:\n",
    "                    valF8Mux = int(l.split()[4])\n",
    "                    F8Mux.append(valF8Mux)\n",
    "                if \"LUT as Memory         | \" in l:\n",
    "                    valLUTasMem = int(l.split()[5])\n",
    "                    LUTasMem.append(valLUTasMem)\n",
    "                if \"LUT as Logic          |\" in l:\n",
    "                    valLUTasLog = int(l.split()[5])\n",
    "                    LUTasLog.append(valLUTasLog)\n",
    "                if \"Slice LUTs              |\" in l:\n",
    "                    valsliceLUT = int(l.split()[4])\n",
    "                    sliceLUT.append(valsliceLUT)\n",
    "                if \"| LUT2     |\" in l:\n",
    "                    valLUT2 = int(l.split()[3])\n",
    "                    LUT2.append(valLUT2)\n",
    "                if \"| LUT3     |\" in l:\n",
    "                    valLUT3 = int(l.split()[3])\n",
    "                    LUT3.append(valLUT3)\n",
    "                if \"| LUT4     |\" in l:\n",
    "                    valLUT4 = int(l.split()[3])\n",
    "                    LUT4.append(valLUT4)                    \n",
    "                if \"| LUT5     |\" in l:\n",
    "                    valLUT5 = int(l.split()[3])\n",
    "                    LUT5.append(valLUT5)                    \n",
    "                if \"| LUT6     |\" in l:\n",
    "                    valLUT6 = int(l.split()[3])\n",
    "                    LUT6.append(valLUT6)                "
   ]
  },
  {
   "cell_type": "markdown",
   "id": "4e141f73-d1d0-4215-806f-a4516fa7bcb8",
   "metadata": {},
   "source": [
    "## Write Data to CSV File"
   ]
  },
  {
   "cell_type": "code",
   "execution_count": 135,
   "id": "b19875d2-aa7b-46bf-a212-f44e2a69960f",
   "metadata": {},
   "outputs": [
    {
     "name": "stderr",
     "output_type": "stream",
     "text": [
      "C:\\Users\\NITESH MAURYA\\AppData\\Local\\Temp\\ipykernel_7124\\2769454819.py:3: UserWarning: Pandas doesn't allow columns to be created via a new attribute name - see https://pandas.pydata.org/pandas-docs/stable/indexing.html#attribute-access\n",
      "  df.rows = designs\n"
     ]
    }
   ],
   "source": [
    "\n",
    "result = [sigPow, logPow,statPow, dcPow, totPow, datPthDly, F7Mux, F8Mux, LUTasMem, LUTasLog, sliceLUT, LUT2, LUT3, LUT4, LUT5, LUT6]\n",
    "df = pd.DataFrame(result) \n",
    "df.rows = designs\n",
    "df.insert(loc=0, column='', value=col)\n",
    "df = df.T\n",
    "df.insert(loc=0, column='', value=[\"Module Name\",\"top_CLA16\",\"top_CLA32\",\"top_CLA64\",\"top_CLA8\"])\n",
    "\n",
    "df.to_csv(\"Result/Result.csv\",index=False)"
   ]
  },
  {
   "cell_type": "code",
   "execution_count": 130,
   "id": "3b17254e-a697-4b25-9f0f-d8eb7e688e3a",
   "metadata": {},
   "outputs": [],
   "source": []
  },
  {
   "cell_type": "code",
   "execution_count": null,
   "id": "b3cb837d-c3dc-40ca-8b38-ded8011b0032",
   "metadata": {},
   "outputs": [],
   "source": []
  },
  {
   "cell_type": "code",
   "execution_count": null,
   "id": "b3bcdb0f-11d0-4c1f-9fde-cceb6efe03f4",
   "metadata": {},
   "outputs": [],
   "source": []
  }
 ],
 "metadata": {
  "kernelspec": {
   "display_name": "Python 3 (ipykernel)",
   "language": "python",
   "name": "python3"
  },
  "language_info": {
   "codemirror_mode": {
    "name": "ipython",
    "version": 3
   },
   "file_extension": ".py",
   "mimetype": "text/x-python",
   "name": "python",
   "nbconvert_exporter": "python",
   "pygments_lexer": "ipython3",
   "version": "3.9.0"
  }
 },
 "nbformat": 4,
 "nbformat_minor": 5
}
